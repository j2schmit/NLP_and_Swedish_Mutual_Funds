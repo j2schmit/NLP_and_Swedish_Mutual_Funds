{
 "cells": [
  {
   "cell_type": "markdown",
   "metadata": {},
   "source": [
    "# Natural Language Processing and Swedish Mutual Funds\n",
    "\n",
    "#### We will be using NLP on a collection of short descriptions of 1320 mutual funds. The primary NLP packages we will playing with is NLTK. The fund descriptions are in swedish, and NLTK does have some support for the swedish language.\n",
    "\n",
    "#### First, we import some packages we'll be using and open the fund dictionary (i.e. hash table), which is currently stored in json format."
   ]
  },
  {
   "cell_type": "code",
   "execution_count": 260,
   "metadata": {
    "collapsed": true
   },
   "outputs": [],
   "source": [
    "import nltk\n",
    "from nltk.text import Text\n",
    "from collections import Counter\n",
    "from nltk.corpus import stopwords\n",
    "from nltk.stem.snowball import SwedishStemmer\n",
    "from sklearn.decomposition import TruncatedSVD\n",
    "from sklearn.preprocessing import Normalizer\n",
    "from sklearn.feature_extraction.text import TfidfVectorizer\n",
    "from sklearn.naive_bayes import MultinomialNB\n",
    "from sklearn import metrics\n",
    "import random\n",
    "import pandas as pd\n",
    "import numpy as np\n",
    "from sklearn.pipeline import Pipeline\n",
    "from sklearn.metrics import pairwise_distances\n",
    "import json\n",
    "from collections import defaultdict\n",
    "import warnings\n",
    "warnings.filterwarnings(\"ignore\")\n",
    "\n",
    "with open('dict_of_funds.json', 'r') as g:\n",
    "     dict_of_funds = json.load(g)"
   ]
  },
  {
   "cell_type": "code",
   "execution_count": 223,
   "metadata": {},
   "outputs": [
    {
     "data": {
      "text/plain": [
       "1320"
      ]
     },
     "execution_count": 223,
     "metadata": {},
     "output_type": "execute_result"
    }
   ],
   "source": [
    "len(dict_of_funds)"
   ]
  },
  {
   "cell_type": "markdown",
   "metadata": {},
   "source": [
    "#### There are 1320 funds and below is an example of the information available for a given fund. We will primarily be interested in a short 1-4 sentence summary ofthe fund, whichis stored under the key 'info'."
   ]
  },
  {
   "cell_type": "code",
   "execution_count": 224,
   "metadata": {},
   "outputs": [
    {
     "data": {
      "text/plain": [
       "{'10_yr': 52.5,\n",
       " '1_yr': 16.41,\n",
       " '3_yr': 23.6,\n",
       " '5_yr': 68.61,\n",
       " 'ISIN': 'SE0000429748',\n",
       " 'bank': 'Handelsbanken',\n",
       " 'category': 'Tillväxtmarknader',\n",
       " 'fund_type': 'Aktiefond',\n",
       " 'holdings': {'AIA Group Ltd': '2.1',\n",
       "  'Alibaba Group Holding Ltd ADR': '6.4',\n",
       "  'Kroton Educacional SA': '2.2',\n",
       "  'Naspers Ltd Class N': '1.6',\n",
       "  'NetEase Inc ADR': '2.8',\n",
       "  'Samsung Electronics Co Ltd': '4.6',\n",
       "  'Sberbank of Russia PJSC': '2.7',\n",
       "  'Taiwan Semiconductor Manufacturing Co Ltd': '5.8',\n",
       "  'Tencent Holdings Ltd': '8.7',\n",
       "  'Övrigt': '63.3'},\n",
       " 'industries': {'Fastigheter': '1.3',\n",
       "  'Finans': '24.5',\n",
       "  'Industri': '6.6',\n",
       "  'Kommunikation': '3.0',\n",
       "  'Konsument, cyklisk': '13.3',\n",
       "  'Konsument, stabil': '10.7',\n",
       "  'Råvaror': '1.2',\n",
       "  'Sjukvård': '3.5',\n",
       "  'Teknik': '36.0',\n",
       "  'Övrigt': '0.0'},\n",
       " 'info': 'Fonden är en aktivt förvaltad värdepappersfond som placerar främst i börsnoterade aktier utgivna av företag i Asien, Latinamerika, Östeuropa och Afrika. Målet är att över tiden överträffa den genomsnittliga avkastningen på de aktuella aktiemarknaderna. Fondens medel kan också placeras i andelar i fonder som placerar på dessa marknader och, upp till 10% av fondförmögenheten, på konto i kreditinstitut. Med syfte att effektivisera förvaltningen av fondens tillgångar kan fonden använda derivatinstrument, bl.a. OTC-derivat. Placeringarna i derivatinstrument är inte av sådan karaktär att de kan påverka fondens risknivå i någon större grad.',\n",
       " 'link': 'https://www.avanza.se/fonder/om-fonden.html/2155/handelsbanken-tillvaxtmarknad-tema',\n",
       " 'man_fee': 1.6,\n",
       " 'min_amt': 200,\n",
       " 'morningstar': 4,\n",
       " 'normanbelopp': 14057,\n",
       " 'regions': {'Afrika och Mellanöstern': '5.5',\n",
       "  'Asien exkl Japan': '67.1',\n",
       "  'Latinamerika': '17.9',\n",
       "  'Nordamerika': '0.6',\n",
       "  'Västeuropa exkl Sverige': '0.8',\n",
       "  'Östeuropa': '8.1',\n",
       "  'Övrigt': '0.0'},\n",
       " 'risk': 6,\n",
       " 'sharpe_ratio': 0.72,\n",
       " 'start_date': '1997-11-25',\n",
       " 'std_dev': 13.65,\n",
       " 'sub_categories': 'Tillväxtmarknader'}"
      ]
     },
     "execution_count": 224,
     "metadata": {},
     "output_type": "execute_result"
    }
   ],
   "source": [
    "dict_of_funds['Handelsbanken Tillväxtmarknad Tema']"
   ]
  },
  {
   "cell_type": "markdown",
   "metadata": {},
   "source": [
    "#### Next we convert the dictionary to a pandas dataframe, which can be easily manipulated with respect to the operations we will be doing."
   ]
  },
  {
   "cell_type": "code",
   "execution_count": 261,
   "metadata": {},
   "outputs": [
    {
     "data": {
      "text/html": [
       "<div>\n",
       "<style>\n",
       "    .dataframe thead tr:only-child th {\n",
       "        text-align: right;\n",
       "    }\n",
       "\n",
       "    .dataframe thead th {\n",
       "        text-align: left;\n",
       "    }\n",
       "\n",
       "    .dataframe tbody tr th {\n",
       "        vertical-align: top;\n",
       "    }\n",
       "</style>\n",
       "<table border=\"1\" class=\"dataframe\">\n",
       "  <thead>\n",
       "    <tr style=\"text-align: right;\">\n",
       "      <th></th>\n",
       "      <th>info</th>\n",
       "      <th>min_amt</th>\n",
       "      <th>sub_categories</th>\n",
       "      <th>sharpe_ratio</th>\n",
       "      <th>1_yr</th>\n",
       "      <th>man_fee</th>\n",
       "      <th>morningstar</th>\n",
       "      <th>bank</th>\n",
       "      <th>start_date</th>\n",
       "      <th>3_yr</th>\n",
       "      <th>...</th>\n",
       "      <th>fund_type</th>\n",
       "      <th>link</th>\n",
       "      <th>10_yr</th>\n",
       "      <th>normanbelopp</th>\n",
       "      <th>std_dev</th>\n",
       "      <th>industries</th>\n",
       "      <th>holdings</th>\n",
       "      <th>risk</th>\n",
       "      <th>ISIN</th>\n",
       "      <th>regions</th>\n",
       "    </tr>\n",
       "  </thead>\n",
       "  <tbody>\n",
       "    <tr>\n",
       "      <th>10TEN Kvanthedge</th>\n",
       "      <td>Fonden är en aktivt förvaltad hedgefond som fö...</td>\n",
       "      <td>25000</td>\n",
       "      <td>Hedgefond, lång/kort, Europa</td>\n",
       "      <td>NaN</td>\n",
       "      <td>2.08</td>\n",
       "      <td>0.80</td>\n",
       "      <td>NaN</td>\n",
       "      <td>10TEN</td>\n",
       "      <td>2016-08-02</td>\n",
       "      <td>NaN</td>\n",
       "      <td>...</td>\n",
       "      <td>Hedgefond</td>\n",
       "      <td>https://www.avanza.se/fonder/om-fonden.html/67...</td>\n",
       "      <td>NaN</td>\n",
       "      <td>7017</td>\n",
       "      <td>NaN</td>\n",
       "      <td>{'Just nu finns ingen information om fondens i...</td>\n",
       "      <td>{'Just nu finns ingen information om fondens i...</td>\n",
       "      <td>2.0</td>\n",
       "      <td>SE0008586945</td>\n",
       "      <td>{'Just nu finns ingen information om fondens i...</td>\n",
       "    </tr>\n",
       "    <tr>\n",
       "      <th>AGCM Asia Growth RC SEK</th>\n",
       "      <td>AGCM Asia Growth Fund är en aktivt förvaltad a...</td>\n",
       "      <td>100</td>\n",
       "      <td>Asien ex Japan</td>\n",
       "      <td>NaN</td>\n",
       "      <td>9.65</td>\n",
       "      <td>1.85</td>\n",
       "      <td>NaN</td>\n",
       "      <td>AGCM Asia Growth</td>\n",
       "      <td>2014-10-03</td>\n",
       "      <td>NaN</td>\n",
       "      <td>...</td>\n",
       "      <td>Aktiefond</td>\n",
       "      <td>https://www.avanza.se/fonder/om-fonden.html/54...</td>\n",
       "      <td>NaN</td>\n",
       "      <td>18319</td>\n",
       "      <td>NaN</td>\n",
       "      <td>{'Finans': '20.7', 'Konsument, cyklisk': '22.1...</td>\n",
       "      <td>{'China Resources Land Ltd': '3.8', 'Samsung E...</td>\n",
       "      <td>6.0</td>\n",
       "      <td>LU1091660909</td>\n",
       "      <td>{'Asien exkl Japan': '100.0'}</td>\n",
       "    </tr>\n",
       "    <tr>\n",
       "      <th>AMF Aktiefond Asien Stilla havet</th>\n",
       "      <td>Fonden är en aktiefond med en bred inriktning ...</td>\n",
       "      <td>50</td>\n",
       "      <td>Asien</td>\n",
       "      <td>0.78</td>\n",
       "      <td>7.21</td>\n",
       "      <td>0.40</td>\n",
       "      <td>3.0</td>\n",
       "      <td>AMF</td>\n",
       "      <td>2008-09-25</td>\n",
       "      <td>25.30</td>\n",
       "      <td>...</td>\n",
       "      <td>Aktiefond</td>\n",
       "      <td>https://www.avanza.se/fonder/om-fonden.html/14...</td>\n",
       "      <td>NaN</td>\n",
       "      <td>3908</td>\n",
       "      <td>12.76</td>\n",
       "      <td>NaN</td>\n",
       "      <td>NaN</td>\n",
       "      <td>5.0</td>\n",
       "      <td>SE0002572313</td>\n",
       "      <td>NaN</td>\n",
       "    </tr>\n",
       "    <tr>\n",
       "      <th>AMF Aktiefond Europa</th>\n",
       "      <td>Fonden är en aktiefond som placerar i marknads...</td>\n",
       "      <td>50</td>\n",
       "      <td>Europa, värdebolag</td>\n",
       "      <td>0.74</td>\n",
       "      <td>11.94</td>\n",
       "      <td>0.40</td>\n",
       "      <td>5.0</td>\n",
       "      <td>AMF</td>\n",
       "      <td>1999-04-30</td>\n",
       "      <td>22.96</td>\n",
       "      <td>...</td>\n",
       "      <td>Aktiefond</td>\n",
       "      <td>https://www.avanza.se/fonder/om-fonden.html/73...</td>\n",
       "      <td>35.93</td>\n",
       "      <td>3821</td>\n",
       "      <td>13.56</td>\n",
       "      <td>{'Kommunikation': '4.6', 'Finans': '20.0', 'Ko...</td>\n",
       "      <td>{'Roche Holding AG Dividend Right Cert.': '4.2...</td>\n",
       "      <td>5.0</td>\n",
       "      <td>SE0000739153</td>\n",
       "      <td>{'Västeuropa exkl Sverige': '95.0', 'Östeuropa...</td>\n",
       "    </tr>\n",
       "    <tr>\n",
       "      <th>AMF Aktiefond Global</th>\n",
       "      <td>Aktiefond - Global placerar framför allt i utl...</td>\n",
       "      <td>50</td>\n",
       "      <td>Global, mix bolag</td>\n",
       "      <td>1.02</td>\n",
       "      <td>8.02</td>\n",
       "      <td>0.40</td>\n",
       "      <td>4.0</td>\n",
       "      <td>AMF</td>\n",
       "      <td>2001-11-15</td>\n",
       "      <td>35.97</td>\n",
       "      <td>...</td>\n",
       "      <td>Aktiefond</td>\n",
       "      <td>https://www.avanza.se/fonder/om-fonden.html/18...</td>\n",
       "      <td>76.14</td>\n",
       "      <td>3996</td>\n",
       "      <td>12.24</td>\n",
       "      <td>{'Kommunikation': '4.7', 'Finans': '19.0', 'Ko...</td>\n",
       "      <td>{'Microsoft Corp': '2.5', 'Novartis AG': '1.0'...</td>\n",
       "      <td>5.0</td>\n",
       "      <td>SE0000862278</td>\n",
       "      <td>{'Australien och Nya Zeeland': '3.3', 'Östeuro...</td>\n",
       "    </tr>\n",
       "  </tbody>\n",
       "</table>\n",
       "<p>5 rows × 22 columns</p>\n",
       "</div>"
      ],
      "text/plain": [
       "                                                                               info  \\\n",
       "10TEN Kvanthedge                  Fonden är en aktivt förvaltad hedgefond som fö...   \n",
       "AGCM Asia Growth RC SEK           AGCM Asia Growth Fund är en aktivt förvaltad a...   \n",
       "AMF Aktiefond Asien Stilla havet  Fonden är en aktiefond med en bred inriktning ...   \n",
       "AMF Aktiefond Europa              Fonden är en aktiefond som placerar i marknads...   \n",
       "AMF Aktiefond Global              Aktiefond - Global placerar framför allt i utl...   \n",
       "\n",
       "                                  min_amt                sub_categories  \\\n",
       "10TEN Kvanthedge                    25000  Hedgefond, lång/kort, Europa   \n",
       "AGCM Asia Growth RC SEK               100                Asien ex Japan   \n",
       "AMF Aktiefond Asien Stilla havet       50                         Asien   \n",
       "AMF Aktiefond Europa                   50            Europa, värdebolag   \n",
       "AMF Aktiefond Global                   50             Global, mix bolag   \n",
       "\n",
       "                                  sharpe_ratio   1_yr  man_fee  morningstar  \\\n",
       "10TEN Kvanthedge                           NaN   2.08     0.80          NaN   \n",
       "AGCM Asia Growth RC SEK                    NaN   9.65     1.85          NaN   \n",
       "AMF Aktiefond Asien Stilla havet          0.78   7.21     0.40          3.0   \n",
       "AMF Aktiefond Europa                      0.74  11.94     0.40          5.0   \n",
       "AMF Aktiefond Global                      1.02   8.02     0.40          4.0   \n",
       "\n",
       "                                              bank  start_date   3_yr  \\\n",
       "10TEN Kvanthedge                             10TEN  2016-08-02    NaN   \n",
       "AGCM Asia Growth RC SEK           AGCM Asia Growth  2014-10-03    NaN   \n",
       "AMF Aktiefond Asien Stilla havet               AMF  2008-09-25  25.30   \n",
       "AMF Aktiefond Europa                           AMF  1999-04-30  22.96   \n",
       "AMF Aktiefond Global                           AMF  2001-11-15  35.97   \n",
       "\n",
       "                                                        ...                          \\\n",
       "10TEN Kvanthedge                                        ...                           \n",
       "AGCM Asia Growth RC SEK                                 ...                           \n",
       "AMF Aktiefond Asien Stilla havet                        ...                           \n",
       "AMF Aktiefond Europa                                    ...                           \n",
       "AMF Aktiefond Global                                    ...                           \n",
       "\n",
       "                                  fund_type  \\\n",
       "10TEN Kvanthedge                  Hedgefond   \n",
       "AGCM Asia Growth RC SEK           Aktiefond   \n",
       "AMF Aktiefond Asien Stilla havet  Aktiefond   \n",
       "AMF Aktiefond Europa              Aktiefond   \n",
       "AMF Aktiefond Global              Aktiefond   \n",
       "\n",
       "                                                                               link  \\\n",
       "10TEN Kvanthedge                  https://www.avanza.se/fonder/om-fonden.html/67...   \n",
       "AGCM Asia Growth RC SEK           https://www.avanza.se/fonder/om-fonden.html/54...   \n",
       "AMF Aktiefond Asien Stilla havet  https://www.avanza.se/fonder/om-fonden.html/14...   \n",
       "AMF Aktiefond Europa              https://www.avanza.se/fonder/om-fonden.html/73...   \n",
       "AMF Aktiefond Global              https://www.avanza.se/fonder/om-fonden.html/18...   \n",
       "\n",
       "                                  10_yr normanbelopp  std_dev  \\\n",
       "10TEN Kvanthedge                    NaN         7017      NaN   \n",
       "AGCM Asia Growth RC SEK             NaN        18319      NaN   \n",
       "AMF Aktiefond Asien Stilla havet    NaN         3908    12.76   \n",
       "AMF Aktiefond Europa              35.93         3821    13.56   \n",
       "AMF Aktiefond Global              76.14         3996    12.24   \n",
       "\n",
       "                                                                         industries  \\\n",
       "10TEN Kvanthedge                  {'Just nu finns ingen information om fondens i...   \n",
       "AGCM Asia Growth RC SEK           {'Finans': '20.7', 'Konsument, cyklisk': '22.1...   \n",
       "AMF Aktiefond Asien Stilla havet                                                NaN   \n",
       "AMF Aktiefond Europa              {'Kommunikation': '4.6', 'Finans': '20.0', 'Ko...   \n",
       "AMF Aktiefond Global              {'Kommunikation': '4.7', 'Finans': '19.0', 'Ko...   \n",
       "\n",
       "                                                                           holdings  \\\n",
       "10TEN Kvanthedge                  {'Just nu finns ingen information om fondens i...   \n",
       "AGCM Asia Growth RC SEK           {'China Resources Land Ltd': '3.8', 'Samsung E...   \n",
       "AMF Aktiefond Asien Stilla havet                                                NaN   \n",
       "AMF Aktiefond Europa              {'Roche Holding AG Dividend Right Cert.': '4.2...   \n",
       "AMF Aktiefond Global              {'Microsoft Corp': '2.5', 'Novartis AG': '1.0'...   \n",
       "\n",
       "                                 risk          ISIN  \\\n",
       "10TEN Kvanthedge                  2.0  SE0008586945   \n",
       "AGCM Asia Growth RC SEK           6.0  LU1091660909   \n",
       "AMF Aktiefond Asien Stilla havet  5.0  SE0002572313   \n",
       "AMF Aktiefond Europa              5.0  SE0000739153   \n",
       "AMF Aktiefond Global              5.0  SE0000862278   \n",
       "\n",
       "                                                                            regions  \n",
       "10TEN Kvanthedge                  {'Just nu finns ingen information om fondens i...  \n",
       "AGCM Asia Growth RC SEK                               {'Asien exkl Japan': '100.0'}  \n",
       "AMF Aktiefond Asien Stilla havet                                                NaN  \n",
       "AMF Aktiefond Europa              {'Västeuropa exkl Sverige': '95.0', 'Östeuropa...  \n",
       "AMF Aktiefond Global              {'Australien och Nya Zeeland': '3.3', 'Östeuro...  \n",
       "\n",
       "[5 rows x 22 columns]"
      ]
     },
     "execution_count": 261,
     "metadata": {},
     "output_type": "execute_result"
    }
   ],
   "source": [
    "fund_df=pd.DataFrame.from_dict(dict_of_funds,orient='index')\n",
    "fund_df.head()"
   ]
  },
  {
   "cell_type": "markdown",
   "metadata": {},
   "source": [
    "#### Most of the preprocessing we will be doing can be condensed into the function written below. We first split apart (i.e. tokenize) the 'info' string into a list of words, symbols, and punctuations. Then we remove allof the swedish stopwords. In english stopwords are words such as 'is', 'a', 'the', which are commonplace, but have little predictive value. \n",
    "\n",
    "#### After that we remove any tokens of length 1, which includes punctuation marks. The last step is to onlykeep the 'stem' of a word. For instance the stem of 'called' and 'cars' is 'call' and 'car'."
   ]
  },
  {
   "cell_type": "code",
   "execution_count": 262,
   "metadata": {
    "collapsed": true
   },
   "outputs": [],
   "source": [
    "def fund_cleaner(df):\n",
    "    for fund in list(df.index):\n",
    "        info=df.loc[fund,'info']\n",
    "        info=nltk.word_tokenize(info,'swedish')\n",
    "        info=[word for word in info if word not in stopwords.words('swedish')]\n",
    "        info=[word for word in info if len(word)>1]\n",
    "        info=[SwedishStemmer().stem(word) for word in info]\n",
    "        info=' '.join(info)\n",
    "        df.loc[fund,'info']=info\n",
    "    return df"
   ]
  },
  {
   "cell_type": "markdown",
   "metadata": {},
   "source": [
    "#### Let's look at an example of the fund info before and after cleaning things up. Notice the length is reduced by around 1/3."
   ]
  },
  {
   "cell_type": "code",
   "execution_count": 227,
   "metadata": {},
   "outputs": [
    {
     "data": {
      "text/plain": [
       "'Delfondens mål är att söka långsiktig kapitaltillväxt genom att investera minst två 67 % av sina tillgångar i aktier i indiska företag. Delfonden kan investera i finansiella derivatinstrument för säkring och för effektiv förvaltning av portföljer. BSE 100 indexet utgör Delfondens referensindikator. Delfonden syftar inte till att replikera referensindikatorn och kan därför väsentligt avvika från den.'"
      ]
     },
     "execution_count": 227,
     "metadata": {},
     "output_type": "execute_result"
    }
   ],
   "source": [
    "fund_df.loc['Amundi Fds SBI FM Eqty India Select AU-C','info']"
   ]
  },
  {
   "cell_type": "code",
   "execution_count": 265,
   "metadata": {},
   "outputs": [
    {
     "data": {
      "text/plain": [
       "'delfond mål sök långsik kapitaltillväxt genom invest minst två 67 tillgång akti indisk företag delfond invest finansiell derivatinstrument säkring effektiv förvaltning portfölj bse 100 indexet utgör delfond referensindik delfond syft replik referensindikatorn därför väsent avvik'"
      ]
     },
     "execution_count": 265,
     "metadata": {},
     "output_type": "execute_result"
    }
   ],
   "source": [
    "_=fund_cleaner(fund_df)\n",
    "fund_df.loc['Amundi Fds SBI FM Eqty India Select AU-C','info']"
   ]
  },
  {
   "cell_type": "markdown",
   "metadata": {},
   "source": [
    "#### First we apply an unsupervised methods to group funds based on 'info'. The process consists of the following steps:\n",
    "\n",
    "#### 1) For each fund 'info' and for each unique word in 'info',  count the number of times the word occurs in the fund 'info' and divide this by the number of times the word occurs in all funds 'info'. This is known as Term Frequency Inverse Document Frequency (i.e. tfidf ), and the output is a large sparse matrix where each row corresponds to a particular fund's 'info'.\n",
    "\n",
    "#### 2) Apply a truncated Singular Value Decomposition (i.e. svd ), which attempts to compress the less usefule information in the matrix. \n",
    "\n",
    "#### This process more commonly goes by thename Latent Semantic Analysis or LDA."
   ]
  },
  {
   "cell_type": "code",
   "execution_count": 229,
   "metadata": {
    "collapsed": true
   },
   "outputs": [],
   "source": [
    "svd_model=TruncatedSVD(n_components=500,algorithm='arpack')\n",
    "\n",
    "transformer = TfidfVectorizer()\n",
    "\n",
    "svd_transformer = Pipeline([('tfidf', transformer), \n",
    "                            ('svd', svd_model)])\n",
    "\n",
    "svd_matrix = svd_transformer.fit_transform(fund_df['info'].values)"
   ]
  },
  {
   "cell_type": "markdown",
   "metadata": {},
   "source": [
    "#### Now that each fund has been transformed into a vector in a high-dimensional space, let's see what fund's are similar to a given fund by comparing the fund vectors. In particular, we use the cosine distance to give the angle between vectors. If the two vectors are the same, then the angle will be zero."
   ]
  },
  {
   "cell_type": "code",
   "execution_count": 230,
   "metadata": {
    "collapsed": true
   },
   "outputs": [],
   "source": [
    "def k_similar_funds(fund,k,fund_df):\n",
    "    query_fund = svd_transformer.transform([fund_df.loc[fund,'info']])\n",
    "    distance_matrix = pairwise_distances(query_fund, \n",
    "                                     svd_matrix, \n",
    "                                     metric='cosine', \n",
    "                                     n_jobs=-1)\n",
    "    indices=distance_matrix[0,:].argsort()[:k+1]\n",
    "    for i in indices:\n",
    "        print('Fund Name: '+fund_df.index[i])\n",
    "        print('Fund Category: '+fund_df['category'].iloc[i])\n",
    "        print('')"
   ]
  },
  {
   "cell_type": "code",
   "execution_count": 231,
   "metadata": {},
   "outputs": [
    {
     "name": "stdout",
     "output_type": "stream",
     "text": [
      "Fund Name: AMF Aktiefond Sverige\n",
      "Fund Category: Sverige\n",
      "\n",
      "Fund Name: Monyx Svenska Aktier\n",
      "Fund Category: Sverige\n",
      "\n",
      "Fund Name: AMF Aktiefond Europa\n",
      "Fund Category: Europa\n",
      "\n",
      "Fund Name: SEB Världenfond\n",
      "Fund Category: Blandfonder\n",
      "\n",
      "Fund Name: SEB Nordic Focus C SEK\n",
      "Fund Category: Norden\n",
      "\n",
      "Fund Name: SEB Trygg Placeringsfond\n",
      "Fund Category: Blandfonder\n",
      "\n"
     ]
    }
   ],
   "source": [
    "k_similar_funds('AMF Aktiefond Sverige',5,fund_df)"
   ]
  },
  {
   "cell_type": "markdown",
   "metadata": {},
   "source": [
    "##### Above we see the five 'closest' funds to the fund AMF Aktiefond Sverige. Comparing this to the fund categories seems to show only a minor correlation between the fund's 'info' and the fund's category.\n",
    "\n",
    "#### However, if we look at the geographical distribution of a couple of those funds we see a heavy investment presence in Sweden (i.e. Sverige), which is somewhat encouraging."
   ]
  },
  {
   "cell_type": "code",
   "execution_count": 232,
   "metadata": {},
   "outputs": [
    {
     "name": "stdout",
     "output_type": "stream",
     "text": [
      "Geographical Distribution of SEB Nordic Focus C SEK investments: {'Västeuropa exkl Sverige': '52.4', 'Nordamerika': '3.7', 'Sverige': '43.9'}\n",
      "-----------------------------------------------------------------------------------------------------------\n",
      "Geographical Distribution of SEB Trygg Placeringsfond investments: {'Australien och Nya Zeeland': '0.7', 'Östeuropa': '3.7', 'Nordamerika': '33.2', 'Latinamerika': '0.0', 'Västeuropa exkl Sverige': '13.4', 'Japan': '6.9', 'Afrika och Mellanöstern': '0.2', 'Asien exkl Japan': '5.1', 'Sverige': '36.9'}\n"
     ]
    }
   ],
   "source": [
    "print('Geographical Distribution of SEB Nordic Focus C SEK investments: {}'.format(fund_df.loc['SEB Nordic Focus C SEK','regions']))\n",
    "print('-----------------------------------------------------------------------------------------------------------')\n",
    "print('Geographical Distribution of SEB Trygg Placeringsfond investments: {}'.format(fund_df.loc['SEB Trygg Placeringsfond','regions']))"
   ]
  },
  {
   "cell_type": "markdown",
   "metadata": {},
   "source": [
    "#### Below we see that there are 37 distinct fund categories, and some of the categories have as few as 2 funds. This is a mutli-class dataset with significant class imbalance."
   ]
  },
  {
   "cell_type": "code",
   "execution_count": 233,
   "metadata": {},
   "outputs": [
    {
     "name": "stdout",
     "output_type": "stream",
     "text": [
      "# of fund categories: 37\n"
     ]
    },
    {
     "data": {
      "text/html": [
       "<div>\n",
       "<style>\n",
       "    .dataframe thead tr:only-child th {\n",
       "        text-align: right;\n",
       "    }\n",
       "\n",
       "    .dataframe thead th {\n",
       "        text-align: left;\n",
       "    }\n",
       "\n",
       "    .dataframe tbody tr th {\n",
       "        vertical-align: top;\n",
       "    }\n",
       "</style>\n",
       "<table border=\"1\" class=\"dataframe\">\n",
       "  <thead>\n",
       "    <tr style=\"text-align: right;\">\n",
       "      <th></th>\n",
       "      <th>info</th>\n",
       "    </tr>\n",
       "    <tr>\n",
       "      <th>category</th>\n",
       "      <th></th>\n",
       "    </tr>\n",
       "  </thead>\n",
       "  <tbody>\n",
       "    <tr>\n",
       "      <th>-</th>\n",
       "      <td>21</td>\n",
       "    </tr>\n",
       "    <tr>\n",
       "      <th>Afrika och Mellanöstern</th>\n",
       "      <td>14</td>\n",
       "    </tr>\n",
       "    <tr>\n",
       "      <th>Asien</th>\n",
       "      <td>135</td>\n",
       "    </tr>\n",
       "    <tr>\n",
       "      <th>BRIC</th>\n",
       "      <td>4</td>\n",
       "    </tr>\n",
       "    <tr>\n",
       "      <th>Bioteknologi</th>\n",
       "      <td>6</td>\n",
       "    </tr>\n",
       "    <tr>\n",
       "      <th>Blandfonder</th>\n",
       "      <td>95</td>\n",
       "    </tr>\n",
       "    <tr>\n",
       "      <th>Brasilien</th>\n",
       "      <td>5</td>\n",
       "    </tr>\n",
       "    <tr>\n",
       "      <th>EURO</th>\n",
       "      <td>36</td>\n",
       "    </tr>\n",
       "    <tr>\n",
       "      <th>Energi</th>\n",
       "      <td>5</td>\n",
       "    </tr>\n",
       "    <tr>\n",
       "      <th>Europa</th>\n",
       "      <td>115</td>\n",
       "    </tr>\n",
       "    <tr>\n",
       "      <th>Fastigheter</th>\n",
       "      <td>27</td>\n",
       "    </tr>\n",
       "    <tr>\n",
       "      <th>Finans</th>\n",
       "      <td>4</td>\n",
       "    </tr>\n",
       "    <tr>\n",
       "      <th>Global</th>\n",
       "      <td>125</td>\n",
       "    </tr>\n",
       "    <tr>\n",
       "      <th>Hedgefonder</th>\n",
       "      <td>87</td>\n",
       "    </tr>\n",
       "    <tr>\n",
       "      <th>Infrastruktur</th>\n",
       "      <td>7</td>\n",
       "    </tr>\n",
       "    <tr>\n",
       "      <th>Japan</th>\n",
       "      <td>32</td>\n",
       "    </tr>\n",
       "    <tr>\n",
       "      <th>Kommunikation</th>\n",
       "      <td>2</td>\n",
       "    </tr>\n",
       "    <tr>\n",
       "      <th>Konsument</th>\n",
       "      <td>10</td>\n",
       "    </tr>\n",
       "    <tr>\n",
       "      <th>Konvertibler</th>\n",
       "      <td>4</td>\n",
       "    </tr>\n",
       "    <tr>\n",
       "      <th>Latinamerika</th>\n",
       "      <td>14</td>\n",
       "    </tr>\n",
       "    <tr>\n",
       "      <th>Läkemedel</th>\n",
       "      <td>14</td>\n",
       "    </tr>\n",
       "    <tr>\n",
       "      <th>Miljö</th>\n",
       "      <td>6</td>\n",
       "    </tr>\n",
       "    <tr>\n",
       "      <th>Nordamerika</th>\n",
       "      <td>62</td>\n",
       "    </tr>\n",
       "    <tr>\n",
       "      <th>Norden</th>\n",
       "      <td>38</td>\n",
       "    </tr>\n",
       "    <tr>\n",
       "      <th>Ny Energi</th>\n",
       "      <td>5</td>\n",
       "    </tr>\n",
       "    <tr>\n",
       "      <th>Ny Teknologi</th>\n",
       "      <td>21</td>\n",
       "    </tr>\n",
       "    <tr>\n",
       "      <th>Onoterat</th>\n",
       "      <td>3</td>\n",
       "    </tr>\n",
       "    <tr>\n",
       "      <th>Ryssland</th>\n",
       "      <td>16</td>\n",
       "    </tr>\n",
       "    <tr>\n",
       "      <th>Råvaror</th>\n",
       "      <td>12</td>\n",
       "    </tr>\n",
       "    <tr>\n",
       "      <th>SEK</th>\n",
       "      <td>77</td>\n",
       "    </tr>\n",
       "    <tr>\n",
       "      <th>Sverige</th>\n",
       "      <td>104</td>\n",
       "    </tr>\n",
       "    <tr>\n",
       "      <th>Tillväxtmarknader</th>\n",
       "      <td>72</td>\n",
       "    </tr>\n",
       "    <tr>\n",
       "      <th>Turkiet</th>\n",
       "      <td>4</td>\n",
       "    </tr>\n",
       "    <tr>\n",
       "      <th>USD</th>\n",
       "      <td>10</td>\n",
       "    </tr>\n",
       "    <tr>\n",
       "      <th>Ädelmetaller</th>\n",
       "      <td>4</td>\n",
       "    </tr>\n",
       "    <tr>\n",
       "      <th>Östeuropa</th>\n",
       "      <td>23</td>\n",
       "    </tr>\n",
       "    <tr>\n",
       "      <th>Övriga</th>\n",
       "      <td>101</td>\n",
       "    </tr>\n",
       "  </tbody>\n",
       "</table>\n",
       "</div>"
      ],
      "text/plain": [
       "                         info\n",
       "category                     \n",
       "-                          21\n",
       "Afrika och Mellanöstern    14\n",
       "Asien                     135\n",
       "BRIC                        4\n",
       "Bioteknologi                6\n",
       "Blandfonder                95\n",
       "Brasilien                   5\n",
       "EURO                       36\n",
       "Energi                      5\n",
       "Europa                    115\n",
       "Fastigheter                27\n",
       "Finans                      4\n",
       "Global                    125\n",
       "Hedgefonder                87\n",
       "Infrastruktur               7\n",
       "Japan                      32\n",
       "Kommunikation               2\n",
       "Konsument                  10\n",
       "Konvertibler                4\n",
       "Latinamerika               14\n",
       "Läkemedel                  14\n",
       "Miljö                       6\n",
       "Nordamerika                62\n",
       "Norden                     38\n",
       "Ny Energi                   5\n",
       "Ny Teknologi               21\n",
       "Onoterat                    3\n",
       "Ryssland                   16\n",
       "Råvaror                    12\n",
       "SEK                        77\n",
       "Sverige                   104\n",
       "Tillväxtmarknader          72\n",
       "Turkiet                     4\n",
       "USD                        10\n",
       "Ädelmetaller                4\n",
       "Östeuropa                  23\n",
       "Övriga                    101"
      ]
     },
     "execution_count": 233,
     "metadata": {},
     "output_type": "execute_result"
    }
   ],
   "source": [
    "print('# of fund categories: {}'.format(len(fund_df.groupby('category').count().index)))\n",
    "fund_df.loc[:,['info','category']].groupby('category').count()"
   ]
  },
  {
   "cell_type": "markdown",
   "metadata": {},
   "source": [
    "#### We now move on to supervised learning via classification, and we begin by splitting the dataset of funds into a traing set and a test set. We randomly split a quarter of the set into the test set, and do so by maintaing the ratio of classes/categories.\n",
    "\n",
    "#### Given the combination of the imbalanced classes and the small populations of many of the fund classes, our expectations should not be high."
   ]
  },
  {
   "cell_type": "code",
   "execution_count": 243,
   "metadata": {
    "collapsed": true
   },
   "outputs": [],
   "source": [
    "def data_split(df):\n",
    "    test_funds=[]\n",
    "    class_counts=df.loc[:,['info','category']].groupby('category').count()\n",
    "    test_counts=class_counts['info'].apply(lambda x: int(0.25*x))\n",
    "    for index, count in test_counts.iteritems():\n",
    "        indices=random.sample(range(0,class_counts.loc[index][0]),count)\n",
    "        test_funds+=list(df.loc[fund_df['category']==index].index[indices])\n",
    "    return test_funds"
   ]
  },
  {
   "cell_type": "code",
   "execution_count": 244,
   "metadata": {
    "collapsed": true
   },
   "outputs": [],
   "source": [
    "test_index=data_split(fund_df)\n",
    "test_set=fund_df.loc[test_index,:]\n",
    "train_set=fund_df.loc[~fund_df.index.isin(test_index)]"
   ]
  },
  {
   "cell_type": "code",
   "execution_count": 245,
   "metadata": {
    "collapsed": true
   },
   "outputs": [],
   "source": [
    "X_test=test_set['info'].values\n",
    "y_test=test_set['category'].values\n",
    "X_train=train_set['info'].values\n",
    "y_train=train_set['category'].values"
   ]
  },
  {
   "cell_type": "markdown",
   "metadata": {},
   "source": [
    "#### We need a couple of functions for running a Naive Bayes classifier based on a multinomial distribution and a function to show how each category fared.\n",
    "\n",
    "#### A Naive Bayes classifier makes a naive assumption that the features (i.e. word frequencies) are statistically independent. For some words this may be true, but for many this is not true at all (i.e. 'rush' and 'hour'). Later we can use n-grams (multiple words) as features to help this situation."
   ]
  },
  {
   "cell_type": "code",
   "execution_count": 246,
   "metadata": {
    "collapsed": true
   },
   "outputs": [],
   "source": [
    "def score_counts(y_test,y_predic):\n",
    "    correct_counts=defaultdict(int)\n",
    "    counts=defaultdict(int)\n",
    "    i=0\n",
    "    for fund_class in y_test:\n",
    "        counts[fund_class]+=1\n",
    "        if fund_class==y_predic[i]:\n",
    "            correct_counts[fund_class]+=1\n",
    "        i+=1\n",
    "    return (correct_counts,counts)"
   ]
  },
  {
   "cell_type": "code",
   "execution_count": 247,
   "metadata": {
    "collapsed": true
   },
   "outputs": [],
   "source": [
    "def NB_classify_and_score(X_train,y_train,X_test,y_test):\n",
    "    steps = [('tfid', TfidfVectorizer()),\n",
    "         ('NB', MultinomialNB())]\n",
    "\n",
    "    pipeline = Pipeline(steps)\n",
    "\n",
    "    pipeline.fit(X_train,y_train)\n",
    "    \n",
    "    y_predic = pipeline.predict(X_test)\n",
    "    \n",
    "    (correct_counts,counts)=score_counts(y_test,y_predic)\n",
    "\n",
    "    print(\"Accuracy: {}\".format(pipeline.score(X_test, y_test)))\n",
    "    for key, value in counts.items():\n",
    "        print(key+\": {}\".format(correct_counts[key])+'/{}'.format(value))\n"
   ]
  },
  {
   "cell_type": "markdown",
   "metadata": {},
   "source": [
    "#### Below we see that only around 48% of the funds in the test set were correctly classified. This is not very encouraging, but it is far better than the around 3% accuracy a truely random approach would yield.\n",
    "\n",
    "#### Unsurprisingly, the under represented fund categories performed the worst."
   ]
  },
  {
   "cell_type": "code",
   "execution_count": 248,
   "metadata": {},
   "outputs": [
    {
     "name": "stdout",
     "output_type": "stream",
     "text": [
      "Accuracy: 0.4794952681388013\n",
      "-: 0/5\n",
      "Östeuropa: 0/5\n",
      "Ny Energi: 0/1\n",
      "USD: 0/2\n",
      "Läkemedel: 0/3\n",
      "Afrika och Mellanöstern: 0/3\n",
      "Sverige: 23/26\n",
      "Energi: 0/1\n",
      "Nordamerika: 2/15\n",
      "BRIC: 0/1\n",
      "Finans: 0/1\n",
      "SEK: 16/19\n",
      "Ädelmetaller: 0/1\n",
      "Blandfonder: 12/23\n",
      "Japan: 1/8\n",
      "Norden: 0/9\n",
      "Latinamerika: 0/3\n",
      "Ny Teknologi: 0/5\n",
      "Infrastruktur: 0/1\n",
      "Asien: 31/33\n",
      "EURO: 0/9\n",
      "Övriga: 19/25\n",
      "Miljö: 0/1\n",
      "Europa: 17/28\n",
      "Råvaror: 0/3\n",
      "Konsument: 0/2\n",
      "Tillväxtmarknader: 1/18\n",
      "Bioteknologi: 0/1\n",
      "Turkiet: 0/1\n",
      "Ryssland: 0/4\n",
      "Global: 22/31\n",
      "Fastigheter: 0/6\n",
      "Hedgefonder: 8/21\n",
      "Konvertibler: 0/1\n",
      "Brasilien: 0/1\n"
     ]
    }
   ],
   "source": [
    "NB_classify_and_score(X_train,y_train,X_test,y_test)"
   ]
  },
  {
   "cell_type": "markdown",
   "metadata": {},
   "source": [
    "#### Let's run it again, but this time usingonly the top 5 most populated fund categories."
   ]
  },
  {
   "cell_type": "code",
   "execution_count": 249,
   "metadata": {},
   "outputs": [
    {
     "name": "stdout",
     "output_type": "stream",
     "text": [
      "['Asien', 'Global', 'Europa', 'Sverige', 'Övriga']\n"
     ]
    }
   ],
   "source": [
    "top_classes=list(fund_df.loc[:,['info','category']].groupby('category').count().sort_values('info',ascending=False).head(5).index)\n",
    "print(top_classes)"
   ]
  },
  {
   "cell_type": "code",
   "execution_count": 250,
   "metadata": {
    "collapsed": true
   },
   "outputs": [],
   "source": [
    "X_test_sub=test_set.loc[test_set['category'].isin(top_classes)]['info'].values\n",
    "y_test_sub=test_set.loc[test_set['category'].isin(top_classes)]['category'].values\n",
    "X_train_sub=train_set.loc[train_set['category'].isin(top_classes)]['info'].values\n",
    "y_train_sub=train_set.loc[train_set['category'].isin(top_classes)]['category'].values"
   ]
  },
  {
   "cell_type": "markdown",
   "metadata": {},
   "source": [
    "#### Our accuracy has almost doubled to 81%, which is a nice improvement. We could either gather more dataon the under represented categories, or we could consider consolidating some of the fund categories to get better performance outof our classifier. Of course, we have only tried a fairly basic classifier, so there are many more methods we can consider. "
   ]
  },
  {
   "cell_type": "code",
   "execution_count": 251,
   "metadata": {},
   "outputs": [
    {
     "name": "stdout",
     "output_type": "stream",
     "text": [
      "Accuracy: 0.8111888111888111\n",
      "Asien: 30/33\n",
      "Europa: 17/28\n",
      "Övriga: 22/25\n",
      "Global: 24/31\n",
      "Sverige: 23/26\n"
     ]
    }
   ],
   "source": [
    "NB_classify_and_score(X_train_sub,y_train_sub,X_test_sub,y_test_sub)"
   ]
  },
  {
   "cell_type": "markdown",
   "metadata": {},
   "source": [
    "#### Before we move on to other methods let's look at 'fund_type' asopposed to fund 'category'. THere are only 7 fund types as opposed to 37 fund categories. However, class imbalance is still an issue, since the 'Aktiefond' type is heavily represented in the dataset."
   ]
  },
  {
   "cell_type": "code",
   "execution_count": 252,
   "metadata": {},
   "outputs": [
    {
     "name": "stdout",
     "output_type": "stream",
     "text": [
      "# of fund types: 7\n"
     ]
    },
    {
     "data": {
      "text/html": [
       "<div>\n",
       "<style>\n",
       "    .dataframe thead tr:only-child th {\n",
       "        text-align: right;\n",
       "    }\n",
       "\n",
       "    .dataframe thead th {\n",
       "        text-align: left;\n",
       "    }\n",
       "\n",
       "    .dataframe tbody tr th {\n",
       "        vertical-align: top;\n",
       "    }\n",
       "</style>\n",
       "<table border=\"1\" class=\"dataframe\">\n",
       "  <thead>\n",
       "    <tr style=\"text-align: right;\">\n",
       "      <th></th>\n",
       "      <th>info</th>\n",
       "    </tr>\n",
       "    <tr>\n",
       "      <th>fund_type</th>\n",
       "      <th></th>\n",
       "    </tr>\n",
       "  </thead>\n",
       "  <tbody>\n",
       "    <tr>\n",
       "      <th>-</th>\n",
       "      <td>21</td>\n",
       "    </tr>\n",
       "    <tr>\n",
       "      <th>Aktiefond</th>\n",
       "      <td>763</td>\n",
       "    </tr>\n",
       "    <tr>\n",
       "      <th>Blandfond</th>\n",
       "      <td>95</td>\n",
       "    </tr>\n",
       "    <tr>\n",
       "      <th>Branschfond</th>\n",
       "      <td>126</td>\n",
       "    </tr>\n",
       "    <tr>\n",
       "      <th>Hedgefond</th>\n",
       "      <td>87</td>\n",
       "    </tr>\n",
       "    <tr>\n",
       "      <th>Räntefond</th>\n",
       "      <td>224</td>\n",
       "    </tr>\n",
       "    <tr>\n",
       "      <th>Övrigt</th>\n",
       "      <td>4</td>\n",
       "    </tr>\n",
       "  </tbody>\n",
       "</table>\n",
       "</div>"
      ],
      "text/plain": [
       "             info\n",
       "fund_type        \n",
       "-              21\n",
       "Aktiefond     763\n",
       "Blandfond      95\n",
       "Branschfond   126\n",
       "Hedgefond      87\n",
       "Räntefond     224\n",
       "Övrigt          4"
      ]
     },
     "execution_count": 252,
     "metadata": {},
     "output_type": "execute_result"
    }
   ],
   "source": [
    "print('# of fund types: {}'.format(len(fund_df.groupby('fund_type').count().index)))\n",
    "fund_df.loc[:,['info','fund_type']].groupby('fund_type').count()"
   ]
  },
  {
   "cell_type": "code",
   "execution_count": 253,
   "metadata": {
    "collapsed": true
   },
   "outputs": [],
   "source": [
    "def data_split(df,column):\n",
    "    test_funds=[]\n",
    "    class_counts=df.loc[:,['info',column]].groupby(column).count()\n",
    "    test_counts=class_counts['info'].apply(lambda x: int(0.25*x))\n",
    "    for index, count in test_counts.iteritems():\n",
    "        indices=random.sample(range(0,class_counts.loc[index][0]),count)\n",
    "        test_funds+=list(df.loc[fund_df[column]==index].index[indices])\n",
    "    \n",
    "    return test_funds"
   ]
  },
  {
   "cell_type": "code",
   "execution_count": 254,
   "metadata": {
    "collapsed": true
   },
   "outputs": [],
   "source": [
    "test_index=data_split(fund_df,'fund_type')\n",
    "test_set=fund_df.loc[test_index,:]\n",
    "train_set=fund_df.loc[~fund_df.index.isin(test_index)]"
   ]
  },
  {
   "cell_type": "code",
   "execution_count": 255,
   "metadata": {
    "collapsed": true
   },
   "outputs": [],
   "source": [
    "X_test=test_set['info'].values\n",
    "y_test=test_set['fund_type'].values\n",
    "X_train=train_set['info'].values\n",
    "y_train=train_set['fund_type'].values"
   ]
  },
  {
   "cell_type": "code",
   "execution_count": 256,
   "metadata": {},
   "outputs": [
    {
     "name": "stdout",
     "output_type": "stream",
     "text": [
      "Accuracy: 0.6758409785932722\n",
      "Branschfond: 0/31\n",
      "Aktiefond: 190/190\n",
      "Blandfond: 0/23\n",
      "Räntefond: 31/56\n",
      "Hedgefond: 0/21\n",
      "Övrigt: 0/1\n",
      "-: 0/5\n"
     ]
    }
   ],
   "source": [
    "NB_classify_and_score(X_train,y_train,X_test,y_test)"
   ]
  },
  {
   "cell_type": "markdown",
   "metadata": {
    "collapsed": true
   },
   "source": [
    "#### Over 67% of the funds in the test set are correctly given the fund type by the Naive Bayes classifier. This isn't too bad, but we should be able to do better by bringing in other features and methods."
   ]
  }
 ],
 "metadata": {
  "kernelspec": {
   "display_name": "Python 3",
   "language": "python",
   "name": "python3"
  },
  "language_info": {
   "codemirror_mode": {
    "name": "ipython",
    "version": 3
   },
   "file_extension": ".py",
   "mimetype": "text/x-python",
   "name": "python",
   "nbconvert_exporter": "python",
   "pygments_lexer": "ipython3",
   "version": "3.5.2"
  }
 },
 "nbformat": 4,
 "nbformat_minor": 2
}
